{
 "cells": [
  {
   "cell_type": "code",
   "execution_count": null,
   "id": "71e250ad",
   "metadata": {},
   "outputs": [
    {
     "name": "stdout",
     "output_type": "stream",
     "text": [
      "生成了 500 天的股票价格数据\n"
     ]
    }
   ],
   "source": [
    "import numpy as np\n",
    "import matplotlib.pyplot as plt\n",
    "\n",
    "# 设置随机种子（可重复结果）\n",
    "np.random.seed(42)\n",
    "\n",
    "# 参数设置\n",
    "days = 500\n",
    "initial_price = 100\n",
    "volatility = 0.02  # 日波动率\n",
    "trend = 0.0005     # 小幅上涨趋势\n",
    "\n",
    "\n",
    "# 生成对数收益率（正态分布）\n",
    "log_returns = np.random.normal(trend, volatility, days)\n",
    "\n",
    "# 累积对数收益率 → 得到价格序列\n",
    "price_series = initial_price * np.exp(np.cumsum(log_returns))\n",
    "\n",
    "\n",
    "# 添加一些“真实感”:偶尔大波动（模拟市场冲击）\n",
    "shock_days = np.random.choice(days, size=10, replace=False)\n",
    "log_returns[shock_days] += np.random.normal(0, 0.1, 10)  # 大幅波动\n",
    "price_series = initial_price * np.exp(np.cumsum(log_returns))\n",
    "\n",
    "print(f\"生成了 {len(price_series)} 天的股票价格数据\")"
   ]
  },
  {
   "cell_type": "code",
   "execution_count": null,
   "id": "27f2c8a0",
   "metadata": {},
   "outputs": [],
   "source": [
    "plt.figure(figsize=(12, 6))\n",
    "plt.plot(price_series, label=\"股票价格\", color='blue')\n",
    "plt.title(\"模拟股票价格序列\")\n",
    "plt.xlabel(\"天数\")\n",
    "plt.ylabel(\"价格\")\n",
    "plt.legend()\n",
    "plt.grid(True, alpha=0.3)\n",
    "plt.show()"
   ]
  },
  {
   "cell_type": "code",
   "execution_count": null,
   "id": "e86cf128",
   "metadata": {},
   "outputs": [
    {
     "name": "stdout",
     "output_type": "stream",
     "text": [
      "移动平均后长度: 500\n"
     ]
    }
   ],
   "source": [
    "window_size = 20\n",
    "kernel = np.ones(window_size) / window_size  # 平均核\n",
    "\n",
    "# 使用 convolve 计算移动平均 MA\n",
    "ma = np.convolve(price_series, kernel, mode='valid')\n",
    "\n",
    "# 注意:convolve 返回长度为 len(data) - window_size + 1\n",
    "# 所以我们要补上前面的缺失值\n",
    "ma_padded = np.concatenate([np.full(window_size - 1, np.nan), ma])\n",
    "\n",
    "print(f\"移动平均后长度: {len(ma_padded)}\")"
   ]
  },
  {
   "cell_type": "code",
   "execution_count": null,
   "id": "a64df2f5",
   "metadata": {},
   "outputs": [],
   "source": [
    "plt.figure(figsize=(12, 6))\n",
    "plt.plot(price_series, label=\"原始价格\", alpha=0.7)\n",
    "plt.plot(ma_padded, label=f\"{window_size}日移动平均\", color='red', linewidth=2)\n",
    "plt.title(f\"使用 numpy.convolve 的 {window_size} 日移动平均\")\n",
    "plt.xlabel(\"天数\")\n",
    "plt.ylabel(\"价格\")\n",
    "plt.legend()\n",
    "plt.grid(True, alpha=0.3)\n",
    "plt.show()"
   ]
  },
  {
   "cell_type": "code",
   "execution_count": null,
   "id": "c2c5a38a",
   "metadata": {},
   "outputs": [],
   "source": [
    "import pandas as pd\n",
    "import numpy as np\n",
    "import matplotlib.pyplot as plt\n",
    "import yfinance as yf  # 用于获取免费股票数据\n",
    "\n",
    "# 获取股票数据\n",
    "def get_stock_data(symbol, start_date, end_date):\n",
    "    \"\"\"获取股票历史数据\"\"\"\n",
    "    stock = yf.download(symbol, start=start_date, end=end_date)\n",
    "    return stock\n",
    "\n",
    "# 示例:获取苹果股票数据\n",
    "# data = get_stock_data(symbol='AAPL', start_date='2020-01-01', end_date='2023-12-31')\n",
    "# print(data.head())\n",
    "\n",
    "# 由于网络问题，我们先用模拟数据演示\n",
    "dates = pd.date_range('2020-01-01', periods=1000, freq='D')\n",
    "np.random.seed(42)\n",
    "prices = 100 + np.cumsum(np.random.randn(1000) * 0.5)  # 随机游走生成价格\n",
    "data = pd.DataFrame({'Close': prices}, index=dates)"
   ]
  },
  {
   "cell_type": "code",
   "execution_count": 4,
   "id": "0ad3a69c",
   "metadata": {},
   "outputs": [
    {
     "data": {
      "text/html": [
       "<div>\n",
       "<style scoped>\n",
       "    .dataframe tbody tr th:only-of-type {\n",
       "        vertical-align: middle;\n",
       "    }\n",
       "\n",
       "    .dataframe tbody tr th {\n",
       "        vertical-align: top;\n",
       "    }\n",
       "\n",
       "    .dataframe thead th {\n",
       "        text-align: right;\n",
       "    }\n",
       "</style>\n",
       "<table border=\"1\" class=\"dataframe\">\n",
       "  <thead>\n",
       "    <tr style=\"text-align: right;\">\n",
       "      <th></th>\n",
       "      <th>Close</th>\n",
       "    </tr>\n",
       "  </thead>\n",
       "  <tbody>\n",
       "    <tr>\n",
       "      <th>2020-01-01</th>\n",
       "      <td>100.248357</td>\n",
       "    </tr>\n",
       "    <tr>\n",
       "      <th>2020-01-02</th>\n",
       "      <td>100.179225</td>\n",
       "    </tr>\n",
       "    <tr>\n",
       "      <th>2020-01-03</th>\n",
       "      <td>100.503069</td>\n",
       "    </tr>\n",
       "    <tr>\n",
       "      <th>2020-01-04</th>\n",
       "      <td>101.264584</td>\n",
       "    </tr>\n",
       "    <tr>\n",
       "      <th>2020-01-05</th>\n",
       "      <td>101.147507</td>\n",
       "    </tr>\n",
       "    <tr>\n",
       "      <th>...</th>\n",
       "      <td>...</td>\n",
       "    </tr>\n",
       "    <tr>\n",
       "      <th>2022-09-22</th>\n",
       "      <td>108.446061</td>\n",
       "    </tr>\n",
       "    <tr>\n",
       "      <th>2022-09-23</th>\n",
       "      <td>109.344905</td>\n",
       "    </tr>\n",
       "    <tr>\n",
       "      <th>2022-09-24</th>\n",
       "      <td>109.665326</td>\n",
       "    </tr>\n",
       "    <tr>\n",
       "      <th>2022-09-25</th>\n",
       "      <td>109.379737</td>\n",
       "    </tr>\n",
       "    <tr>\n",
       "      <th>2022-09-26</th>\n",
       "      <td>109.666028</td>\n",
       "    </tr>\n",
       "  </tbody>\n",
       "</table>\n",
       "<p>1000 rows × 1 columns</p>\n",
       "</div>"
      ],
      "text/plain": [
       "                 Close\n",
       "2020-01-01  100.248357\n",
       "2020-01-02  100.179225\n",
       "2020-01-03  100.503069\n",
       "2020-01-04  101.264584\n",
       "2020-01-05  101.147507\n",
       "...                ...\n",
       "2022-09-22  108.446061\n",
       "2022-09-23  109.344905\n",
       "2022-09-24  109.665326\n",
       "2022-09-25  109.379737\n",
       "2022-09-26  109.666028\n",
       "\n",
       "[1000 rows x 1 columns]"
      ]
     },
     "execution_count": 4,
     "metadata": {},
     "output_type": "execute_result"
    }
   ],
   "source": [
    "data"
   ]
  },
  {
   "cell_type": "code",
   "execution_count": null,
   "id": "dea1a105",
   "metadata": {},
   "outputs": [],
   "source": [
    "def calculate_sma(prices, window):\n",
    "    \"\"\"计算简单移动平均线\"\"\"\n",
    "    return prices.rolling(window=window).mean()\n",
    "calculate_sma(data, 5)\n",
    "\n",
    "def calculate_ema(prices, window):\n",
    "    \"\"\"计算指数移动平均线\n",
    "\n",
    "    从第一天开始就有值:第一天EMA = 第一天价格\n",
    "    使用递推公式:基于前一天的EMA和当天价格计算\n",
    "    近期数据权重更高:越近的数据对结果影响越大\n",
    "\n",
    "    \"\"\"\n",
    "    return prices.ewm(span=window, adjust=False).mean()\n",
    "\n",
    "calculate_ema(data, 5)"
   ]
  },
  {
   "cell_type": "code",
   "execution_count": null,
   "id": "c784895b",
   "metadata": {},
   "outputs": [],
   "source": [
    "def calculate_rsi(prices, window=14):\n",
    "    \"\"\"计算相对强弱指数(RSI)\"\"\"\n",
    "    delta = prices.diff() # diff = 昨天 - 今天\n",
    "    gain = (delta.where(delta > 0, 0)).rolling(window=window).mean() # 如果diff值小于零，即今天比昨天低，就用0替换负数\n",
    "    loss = (-delta.where(delta < 0, 0)).rolling(window=window).mean() # 相反，用0替换正数\n",
    "    rs = gain / loss\n",
    "    rsi = 100 - (100 / (1 + rs))\n",
    "    return rsi\n",
    "calculate_rsi(data, 14)\n"
   ]
  },
  {
   "cell_type": "code",
   "execution_count": 12,
   "id": "d5f33ce0",
   "metadata": {},
   "outputs": [],
   "source": [
    "def calculate_bollinger_bands(prices, window=20, num_std=2):\n",
    "    \"\"\"计算布林带\"\"\"\n",
    "    sma = calculate_sma(prices, window)\n",
    "    std = prices.rolling(window=window).std()\n",
    "    upper_band = sma + (std * num_std)\n",
    "    lower_band = sma - (std * num_std)\n",
    "    return upper_band, sma, lower_band"
   ]
  },
  {
   "cell_type": "code",
   "execution_count": 13,
   "id": "86bf98d1",
   "metadata": {},
   "outputs": [],
   "source": [
    "data['SMA_20'] = calculate_sma(data['Close'], 20)\n",
    "data['SMA_50'] = calculate_sma(data['Close'], 50)\n",
    "data['EMA_12'] = calculate_ema(data['Close'], 12)\n",
    "data['RSI'] = calculate_rsi(data['Close'])\n",
    "upper, middle, lower = calculate_bollinger_bands(data['Close'])"
   ]
  },
  {
   "cell_type": "code",
   "execution_count": null,
   "id": "dccc15ab",
   "metadata": {},
   "outputs": [],
   "source": [
    "data['BB_Upper'] = upper\n",
    "data['BB_Middle'] = middle\n",
    "data['BB_Lower'] = lower"
   ]
  },
  {
   "cell_type": "code",
   "execution_count": 15,
   "id": "2978a5f4",
   "metadata": {},
   "outputs": [
    {
     "name": "stdout",
     "output_type": "stream",
     "text": [
      "技术指标计算完成！\n",
      "                 Close      SMA_20      SMA_50        RSI\n",
      "2022-09-22  108.446061  109.917918  110.819676  28.228709\n",
      "2022-09-23  109.344905  109.811078  110.810834  43.708918\n",
      "2022-09-24  109.665326  109.780855  110.815320  47.278160\n",
      "2022-09-25  109.379737  109.775950  110.814549  44.894758\n",
      "2022-09-26  109.666028  109.766350  110.817071  52.723634\n"
     ]
    }
   ],
   "source": [
    "print(\"技术指标计算完成！\")\n",
    "print(data[['Close', 'SMA_20', 'SMA_50', 'RSI']].tail())"
   ]
  },
  {
   "cell_type": "code",
   "execution_count": null,
   "id": "f7b371ba",
   "metadata": {},
   "outputs": [],
   "source": [
    "def generate_ma_crossover_signals(data, short_window=20, long_window=50):\n",
    "    \"\"\"生成移动平均线交叉信号\"\"\"\n",
    "    # 计算移动平均线\n",
    "    short_ma = calculate_sma(data['Close'], short_window)\n",
    "    long_ma = calculate_sma(data['Close'], long_window)\n",
    "\n",
    "    # 生成信号\n",
    "    signals = pd.DataFrame(index=data.index)\n",
    "    signals['signal'] = 0\n",
    "    signals['short_ma'] = short_ma\n",
    "    signals['long_ma'] = long_ma\n",
    "\n",
    "    # 当短期均线上穿长期均线时买入(1)，下穿时卖出(0)\n",
    "    signals['signal'][short_window:] = np.where(\n",
    "        short_ma[short_window:] > long_ma[short_window:], 1, 0\n",
    "    )\n",
    "\n",
    "    # 计算实际的交易信号（买入/卖出点）\n",
    "    signals['positions'] = signals['signal'].diff()\n",
    "\n",
    "    return signals\n",
    "\n",
    "\n",
    "def generate_rsi_signals(data, overbought=70, oversold=30):\n",
    "    \"\"\"生成RSI超买超卖信号\"\"\"\n",
    "    signals = pd.DataFrame(index=data.index)\n",
    "    signals['rsi'] = data['RSI']\n",
    "    signals['signal'] = 0\n",
    "\n",
    "    # RSI低于超卖线买入，高于超买线卖出\n",
    "    signals['signal'] = np.where(signals['rsi'] < oversold, 1,\n",
    "                                np.where(signals['rsi'] > overbought, -1, 0))\n",
    "    signals['positions'] = signals['signal'].diff()\n",
    "\n",
    "    return signals\n",
    "\n",
    "# 生成信号\n",
    "ma_signals = generate_ma_crossover_signals(data)\n",
    "rsi_signals = generate_rsi_signals(data)\n",
    "ma_signals.to_csv(\"./data/ma_signals.csv\", header=True, index=False)\n",
    "rsi_signals.to_csv(\"./data/rsi_signals.csv\", header=True, index=False)"
   ]
  },
  {
   "cell_type": "code",
   "execution_count": null,
   "id": "4128c242",
   "metadata": {},
   "outputs": [
    {
     "name": "stdout",
     "output_type": "stream",
     "text": [
      "回测结果:\n",
      "初始资金: $10,000\n",
      "最终资金: $10547.59\n",
      "总收益率: 5.48%\n"
     ]
    },
    {
     "name": "stderr",
     "output_type": "stream",
     "text": [
      "/tmp/ipykernel_8398/2417082982.py:30: FutureWarning: Series.__getitem__ treating keys as positions is deprecated. In a future version, integer keys will always be treated as labels (consistent with DataFrame behavior). To access a value by position, use `ser.iloc[pos]`\n",
      "  print(f\"最终资金: ${portfolio['total'][-1]:.2f}\")\n",
      "/tmp/ipykernel_8398/2417082982.py:31: FutureWarning: Series.__getitem__ treating keys as positions is deprecated. In a future version, integer keys will always be treated as labels (consistent with DataFrame behavior). To access a value by position, use `ser.iloc[pos]`\n",
      "  print(f\"总收益率: {(portfolio['total'][-1]/10000 - 1)*100:.2f}%\")\n"
     ]
    }
   ],
   "source": [
    "def backtest_strategy(data, signals, initial_capital=10000.0):\n",
    "    \"\"\"手动回测策略\"\"\"\n",
    "    # 创建持仓和资金记录\n",
    "    positions = pd.DataFrame(index=data.index).fillna(0.0)\n",
    "    portfolio = pd.DataFrame(index=data.index).fillna(0.0)\n",
    "\n",
    "    # 假设每次交易100股\n",
    "    positions['stock'] = 100 * signals['signal']\n",
    "\n",
    "    # 计算持仓价值\n",
    "    portfolio['positions_value'] = positions['stock'] * data['Close']\n",
    "\n",
    "    # 计算现金变化（考虑交易成本）\n",
    "    portfolio['cash'] = initial_capital - (positions['stock'].diff() * data['Close']).cumsum()\n",
    "\n",
    "    # 总资产 = 持仓价值 + 现金\n",
    "    portfolio['total'] = portfolio['positions_value'] + portfolio['cash']\n",
    "\n",
    "    # 计算收益率\n",
    "    portfolio['returns'] = portfolio['total'].pct_change() # 今天比昨天多了多少%\n",
    "\n",
    "    # 基于 日回报率，计算累计回报率\n",
    "    # (1 + portfolio['returns']) --> 转换为增长因子\n",
    "    # (1 + portfolio['returns']).cumprod()  --> 累计增长因子\n",
    "    # 复合增长效应: 今天的增长基于昨天的结果-\n",
    "    portfolio['cumulative_returns'] = (1 + portfolio['returns']).cumprod()\n",
    "\n",
    "    return portfolio\n",
    "\n",
    "# 回测移动平均线策略\n",
    "portfolio = backtest_strategy(data, ma_signals)\n",
    "portfolio.to_csv(\"./data/portfolio.csv\", header=True, index=False)\n",
    "\n",
    "print(\"回测结果:\")\n",
    "print(f\"初始资金: $10,000\")\n",
    "print(f\"最终资金: ${portfolio['total'][-1]:.2f}\")\n",
    "print(f\"总收益率: {(portfolio['total'][-1]/10000 - 1)*100:.2f}%\")"
   ]
  },
  {
   "cell_type": "code",
   "execution_count": 28,
   "id": "a44d4ee4",
   "metadata": {},
   "outputs": [
    {
     "data": {
      "text/plain": [
       "0    1.0\n",
       "1    2.0\n",
       "2    6.0\n",
       "3    3.0\n",
       "4    0.3\n",
       "dtype: float64"
      ]
     },
     "execution_count": 28,
     "metadata": {},
     "output_type": "execute_result"
    }
   ],
   "source": [
    "a = pd.Series([1,2,3,0.5,0.1])\n",
    "a.cumprod()"
   ]
  },
  {
   "cell_type": "code",
   "execution_count": null,
   "id": "5e74a489",
   "metadata": {},
   "outputs": [
    {
     "name": "stdout",
     "output_type": "stream",
     "text": [
      "\n",
      "年化收益率计算:\n",
      "年化收益率 = 0.0005 × 252 = 0.1260 = 12.60%\n",
      "\n",
      "年化波动率计算:\n",
      "年化波动率 = 0.02 × √252 = 0.3175 = 31.75%\n",
      "\n",
      "实际模拟结果验证:\n",
      "实际每日平均收益: 0.002325 (理论: 0.0005)\n",
      "实际每日波动率: 0.0198 (理论: 0.02)\n",
      "实际年化收益: 58.58%\n",
      "实际年化波动率: 31.45%\n"
     ]
    }
   ],
   "source": [
    "# 生成正态分布地随机数\n",
    "daily_mean = 0.0005    # 每日平均收益率\n",
    "daily_std = 0.02       # 每日波动率（标准差）\n",
    "trading_days = 252     # 一年的交易日数\n",
    "\n",
    "# 年化收益率 = 每日收益率 × 交易日数\n",
    "annual_return = daily_mean * trading_days\n",
    "print(f\"\\n年化收益率计算:\")\n",
    "print(f\"年化收益率 = {daily_mean} × {trading_days} = {annual_return:.4f} = {annual_return*100:.2f}%\")\n",
    "\n",
    "\n",
    "# 年化波动率 = 每日波动率 × √交易日数\n",
    "annual_volatility = daily_std * np.sqrt(trading_days)\n",
    "print(f\"\\n年化波动率计算:\")\n",
    "print(f\"年化波动率 = {daily_std} × √{trading_days} = {annual_volatility:.4f} = {annual_volatility*100:.2f}%\")\n",
    "\n",
    "# 验证\n",
    "daily_returns = np.random.normal(daily_mean, daily_std, 252)\n",
    "actual_daily_mean = daily_returns.mean()\n",
    "actual_daily_std = daily_returns.std()\n",
    "\n",
    "actual_annual_return = actual_daily_mean * trading_days\n",
    "actual_annual_vol = actual_daily_std * np.sqrt(trading_days)\n",
    "\n",
    "print(f\"\\n实际模拟结果验证:\")\n",
    "print(f\"实际每日平均收益: {actual_daily_mean:.6f} (理论: {daily_mean})\")\n",
    "print(f\"实际每日波动率: {actual_daily_std:.4f} (理论: {daily_std})\")\n",
    "print(f\"实际年化收益: {actual_annual_return*100:.2f}%\")\n",
    "print(f\"实际年化波动率: {actual_annual_vol*100:.2f}%\")"
   ]
  }
 ],
 "metadata": {
  "kernelspec": {
   "display_name": "base",
   "language": "python",
   "name": "python3"
  },
  "language_info": {
   "codemirror_mode": {
    "name": "ipython",
    "version": 3
   },
   "file_extension": ".py",
   "mimetype": "text/x-python",
   "name": "python",
   "nbconvert_exporter": "python",
   "pygments_lexer": "ipython3",
   "version": "3.12.2"
  }
 },
 "nbformat": 4,
 "nbformat_minor": 5
}
